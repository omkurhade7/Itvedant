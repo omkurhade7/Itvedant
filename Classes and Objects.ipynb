{
 "cells": [
  {
   "cell_type": "markdown",
   "id": "c33031f2",
   "metadata": {},
   "source": [
    "\n",
    "\n",
    "\n",
    "Everything in python is a an object"
   ]
  },
  {
   "cell_type": "markdown",
   "id": "f051a6cd",
   "metadata": {},
   "source": [
    "If your are making a website it contains a lot of functions it becomes difficult handle all the function and it makes ot even harder to call the functions"
   ]
  },
  {
   "cell_type": "code",
   "execution_count": 1,
   "id": "63854824",
   "metadata": {},
   "outputs": [],
   "source": [
    "l = [1,2,3]"
   ]
  },
  {
   "cell_type": "code",
   "execution_count": 5,
   "id": "a89e110b",
   "metadata": {},
   "outputs": [
    {
     "name": "stdout",
     "output_type": "stream",
     "text": [
      "<class 'list'>\n"
     ]
    }
   ],
   "source": [
    "print(type(l)) "
   ]
  },
  {
   "cell_type": "markdown",
   "id": "da93ab68",
   "metadata": {},
   "source": [
    "In the above example the list created is an class and to access ther class an object is created as l\n",
    "in this case the list is an class and the variable assigned to it is an object"
   ]
  },
  {
   "cell_type": "markdown",
   "id": "a2b04fca",
   "metadata": {},
   "source": [
    "\n",
    "# Object\n",
    "Everthing in python is an object \n",
    "when a class is created the to access the class an object needs to be created bu using the object the class is accessed \n",
    "In the above example l is an object used to access list class"
   ]
  },
  {
   "cell_type": "markdown",
   "id": "b25a6ca5",
   "metadata": {},
   "source": [
    "# Method\n",
    "Method and functions are kind of similar\n",
    "Method are created inside the class\n",
    "List is a class and append,reverse,pop are the method of list class\n",
    "Every datatype,class have their own methods"
   ]
  },
  {
   "cell_type": "markdown",
   "id": "77e54dd6",
   "metadata": {},
   "source": [
    "# Methods vs Functions\n",
    "Methods are functions\n",
    "The functions which are created inside the class are called methods\n",
    "Functions are the ones which are created outside the class"
   ]
  },
  {
   "cell_type": "code",
   "execution_count": 15,
   "id": "1e79c1cb",
   "metadata": {},
   "outputs": [
    {
     "data": {
      "text/plain": [
       "1"
      ]
     },
     "execution_count": 15,
     "metadata": {},
     "output_type": "execute_result"
    }
   ],
   "source": [
    "a = (1,2,3,3)\n",
    "a.index(2)\n"
   ]
  },
  {
   "cell_type": "code",
   "execution_count": 40,
   "id": "ecfaa31c",
   "metadata": {},
   "outputs": [],
   "source": [
    "class Hello:\n",
    "    def __init__(self):\n",
    "        print(\"Hello World\")\n",
    "        print(id(self))"
   ]
  },
  {
   "cell_type": "code",
   "execution_count": 43,
   "id": "3db5bbaa",
   "metadata": {},
   "outputs": [
    {
     "name": "stdout",
     "output_type": "stream",
     "text": [
      "Hello World\n",
      "2859695913280\n"
     ]
    }
   ],
   "source": [
    "a2 = Hello()"
   ]
  },
  {
   "cell_type": "markdown",
   "id": "03555517",
   "metadata": {},
   "source": [
    "# Constructor\n",
    "Constructur is basically a special function which has super powers\n",
    "When a method is created we need to call the method but constructor is different we do not need to call the constructor it executes when the object of the class is created \n",
    "When we go to the atm the atm does not directly gives us the options or does not fireup until we have inserted the card in it as soon as the card is inserted the machine shows us lots of options\n",
    "So the constructor acts the same as the atm machine"
   ]
  },
  {
   "cell_type": "markdown",
   "id": "f97373b4",
   "metadata": {},
   "source": [
    "# Self\n",
    "Self is nothing but an object that is passed as an parameter when methods are created inside the class and we need to call one function from another function the classes wont allow us to do that\n",
    "In classes there is a gloden rule that the only one who can access the class and the methods inside it is an object \n",
    "So self acts as an object inside the class so when we declar variables inside the class those variable can be used by the all the methods\n",
    "Self is just an object we can also use other words instead of self\n",
    "But all the variable should be declared using the object same with the methods\n",
    "Example:\n",
    "declaring a variable : self.name,self.age\n",
    "Calling a method : self.func()"
   ]
  },
  {
   "cell_type": "code",
   "execution_count": 56,
   "id": "8f0eca33",
   "metadata": {},
   "outputs": [],
   "source": [
    "class student:\n",
    "    def __init__(self,name,age):\n",
    "        self.name=name\n",
    "        self.age=age\n",
    "        print(id(self))\n",
    "    def info(self):\n",
    "        return f\"The name of the student is {self.name} and age {self.age}\""
   ]
  },
  {
   "cell_type": "code",
   "execution_count": 57,
   "id": "4ab3d278",
   "metadata": {},
   "outputs": [
    {
     "name": "stdout",
     "output_type": "stream",
     "text": [
      "2859695462080\n"
     ]
    }
   ],
   "source": [
    "object1 = student(\"Rohit\",34)"
   ]
  },
  {
   "cell_type": "code",
   "execution_count": 59,
   "id": "26d61eaf",
   "metadata": {},
   "outputs": [
    {
     "data": {
      "text/plain": [
       "'The name of the student is Rohit and age 34'"
      ]
     },
     "execution_count": 59,
     "metadata": {},
     "output_type": "execute_result"
    }
   ],
   "source": [
    "student.info(object1)"
   ]
  },
  {
   "cell_type": "code",
   "execution_count": 61,
   "id": "13438ab3",
   "metadata": {},
   "outputs": [
    {
     "data": {
      "text/plain": [
       "2859695462080"
      ]
     },
     "execution_count": 61,
     "metadata": {},
     "output_type": "execute_result"
    }
   ],
   "source": [
    "id(object1)"
   ]
  },
  {
   "cell_type": "markdown",
   "id": "a221a68a",
   "metadata": {},
   "source": [
    "# Creating a virtual Atm Machine"
   ]
  },
  {
   "cell_type": "code",
   "execution_count": 1,
   "id": "a8708416",
   "metadata": {},
   "outputs": [],
   "source": [
    "#Creating a class\n",
    "class Virtual_atm:\n",
    "    def __init__(self):\n",
    "        self.balance = 10000\n",
    "        self.pin = 12345\n",
    "        self.menu()\n",
    "    def menu(self):\n",
    "        check = input(\"\"\"\n",
    "                      Enter 1 to change pin\n",
    "                      Enter 2 to check balance\n",
    "                      Enter 3 to withdraw\n",
    "                      Enter 4 to exit :\n",
    "                      \"\"\")\n",
    "        if check=='1':\n",
    "            self.change_pin()\n",
    "        elif check=='2':\n",
    "            self.balance1()\n",
    "        elif check=='3':\n",
    "            self.withdraw()\n",
    "        else:\n",
    "            pass\n",
    "\n",
    "    def change_pin(self):\n",
    "        pin1 = int(input(\"Enter the current pin :\"))\n",
    "        if pin1==self.pin:\n",
    "            pin2 = int(input(\"Enter the new pin :\"))\n",
    "            self.pin = pin2\n",
    "            print(\"Pin changed sucessfully\",self.pin)\n",
    "        else:\n",
    "            print(\"Wrong pin\")\n",
    "        self.menu()\n",
    "    def balance1(self):\n",
    "        pin3 = int(input(\"Enter the pin :\"))\n",
    "        if pin3==self.pin:\n",
    "            print(self.balance)\n",
    "        else:\n",
    "            print(\"Wrong pin\")\n",
    "        self.menu()\n",
    "    def withdraw(self):\n",
    "        pin4 = int(input(\"Enter the pin :\"))\n",
    "        if pin4==self.pin:\n",
    "            with1 = int(input(\"Enter the anount to withdraw :\"))\n",
    "            if with1<self.balance:\n",
    "                self.balance = self.balance-with1\n",
    "                print(\"Sucessful\",self.balance)\n",
    "            else:\n",
    "                print(\"Insufficient balance\")\n",
    "        else:\n",
    "            print(\"Wrong pin\")\n",
    "        self.menu()\n",
    "    "
   ]
  },
  {
   "cell_type": "code",
   "execution_count": 2,
   "id": "218b720b",
   "metadata": {},
   "outputs": [
    {
     "name": "stdout",
     "output_type": "stream",
     "text": [
      "\n",
      "                      Enter 1 to change pin\n",
      "                      Enter 2 to check balance\n",
      "                      Enter 3 to withdraw\n",
      "                      Enter 4 to exit :\n",
      "                      2\n",
      "Enter the pin :1234\n",
      "Wrong pin\n",
      "\n",
      "                      Enter 1 to change pin\n",
      "                      Enter 2 to check balance\n",
      "                      Enter 3 to withdraw\n",
      "                      Enter 4 to exit :\n",
      "                      2\n",
      "Enter the pin :12345\n",
      "10000\n",
      "\n",
      "                      Enter 1 to change pin\n",
      "                      Enter 2 to check balance\n",
      "                      Enter 3 to withdraw\n",
      "                      Enter 4 to exit :\n",
      "                      3\n",
      "Enter the pin :12345\n",
      "Enter the anount to withdraw :3456\n",
      "Sucessful 6544\n",
      "\n",
      "                      Enter 1 to change pin\n",
      "                      Enter 2 to check balance\n",
      "                      Enter 3 to withdraw\n",
      "                      Enter 4 to exit :\n",
      "                      4\n"
     ]
    }
   ],
   "source": [
    "object1 = Virtual_atm()"
   ]
  },
  {
   "cell_type": "code",
   "execution_count": 1,
   "id": "cc266a71",
   "metadata": {},
   "outputs": [],
   "source": [
    "from functools import reduce\n",
    "\n",
    "\n",
    "\n",
    "\n",
    "class Mcdonalds:\n",
    "    def __init__(self):\n",
    "        print(\"Welcome enjoy yourself\")\n",
    "        self.items = []\n",
    "        self.sides = []\n",
    "        self.bev = []\n",
    "        self.whole = []\n",
    "        self.in123  = []\n",
    "        self.sides22 = []\n",
    "        self.menu()\n",
    "    def menu(self):\n",
    "        item1 = input(\"\"\"\n",
    "                      Here are your options\n",
    "                      1:Aloo tikki-60\n",
    "                      2.Maharaja burger-120\n",
    "                      3.Veg Frankie-50\n",
    "                      4.Paneer burger-90\n",
    "                      5.Tacos burger-100\n",
    "                      6.Bevrages\n",
    "                      7.To exit\n",
    "                      8.To pay\n",
    "                      9.Sides\n",
    "                      \"\"\")\n",
    "        if item1 == '1':\n",
    "            print(\"Aloo tikki is on the way\")\n",
    "            item1 = \"Aloo_tikki\"\n",
    "            al_tik = 60\n",
    "            self.in123.append(al_tik)\n",
    "            self.items.append(item1)\n",
    "            print(self.items)\n",
    "            self.aloo_tikki()\n",
    "        elif item1 == '2':\n",
    "            print(\"Maharaja burger is on the way\")\n",
    "            item1 = \"Maharaja burger\"\n",
    "            mah_bug = 120\n",
    "            self.in123.append(mah_bug)\n",
    "            self.items.append(item1)\n",
    "            print(self.items)\n",
    "            self.Maharaja_burger()\n",
    "        elif item1 == '3':\n",
    "            print(\"Veg Frankie is on the way\")\n",
    "            item1 = \"Veg frankie\"\n",
    "            veg_f = 50\n",
    "            self.items.append(item1)\n",
    "            self.in123.append(veg_f)\n",
    "            print(self.items)\n",
    "            self.veg_frank()\n",
    "        elif item1 == '4':\n",
    "            print(\"Paneer Tacos is on the way\")\n",
    "            pan = 90\n",
    "            self.in123.append(pan)\n",
    "            item1 = \"Paneer tacos\"\n",
    "            self.items.append(item1)\n",
    "            print(self.items)\n",
    "            self.paneer()\n",
    "        elif item1 == '5':\n",
    "            print(\"Tacos burger is in the way\")\n",
    "            tc = 100\n",
    "            self.in123.append(tc)\n",
    "            item1 = \"Tacos burger\"\n",
    "            self.items.append(item1)\n",
    "            print(self.items)\n",
    "            self.tacos()\n",
    "        elif item1 == '8':\n",
    "            self.cost()\n",
    "        elif item1=='6':\n",
    "            self.beverages()\n",
    "        elif item1=='9':\n",
    "            self.sides1()\n",
    "        else:\n",
    "            print(\"Goodbye\")\n",
    "            print(\"Your overall items are\",self.items)\n",
    "\n",
    "            \n",
    "\n",
    "            \n",
    "            \n",
    "    def aloo_tikki(self):\n",
    "        print(\"To customize your order press 1\")\n",
    "        cust = input(\"Enter to customize :\")\n",
    "        if cust=='1':\n",
    "            cust2 = input(\"\"\"\n",
    "                          1.Extra sauce-10\n",
    "                          2.Extra Cheese-50\n",
    "                          3.Extra Onions-20\n",
    "                          4.Extra Patty-50\n",
    "                          5.To exit\n",
    "                          \"\"\")\n",
    "            \n",
    "            \n",
    "            ###############################\n",
    "            \n",
    "            \n",
    "            if cust2=='1':\n",
    "                Es = 10\n",
    "                self.in123.append(Es)\n",
    "                print(\"Extra sauce added\")\n",
    "                cust2 = \"Extra sauce\"\n",
    "                self.items.append(cust2)\n",
    "                print(self.items)\n",
    "            elif cust2=='2':\n",
    "                Ec = 50\n",
    "                self.in123.append(Ec)\n",
    "                print(\"Extra cheese added\")\n",
    "                cust2 = \"Extra cheese\"\n",
    "                self.items.append(cust2)\n",
    "                print(self.items)\n",
    "            elif cust2=='3':\n",
    "                Eo = 20\n",
    "                self.in123.append(Eo)\n",
    "                print(\"Extra onions added\")\n",
    "                cust2 = \"Extra onions\"\n",
    "                self.items.append(cust2)\n",
    "                print(self.items)\n",
    "            elif cust2=='4':\n",
    "                Ep = 50\n",
    "                self.in123.append(Ep)\n",
    "                print(\"Extra patty added\")\n",
    "                cust2 = \"Extra patty\"\n",
    "                self.items.append(cust2)\n",
    "                print(self.items)\n",
    "            else:\n",
    "                print(\"Exit\")\n",
    "                \n",
    "        else:\n",
    "            print(\"Exit to pay or order more\")\n",
    "            \n",
    "        self.menu()\n",
    "    ##########################################################\n",
    "    def Maharaja_burger(self):\n",
    "        print(\"To customize your order press 1\")\n",
    "        cust = input(\"Enter to customize :\")\n",
    "        if cust=='1':\n",
    "            cust2 = input(\"\"\"\n",
    "                          1.Extra sauce\n",
    "                          2.Extra Cheese\n",
    "                          3.Extra Onions\n",
    "                          4.Extra Patty\n",
    "                          5.To exit\n",
    "                          \"\"\")\n",
    "            if cust2=='1':\n",
    "                Es = 10\n",
    "                self.in123.append(Es)\n",
    "                print(\"Extra sauce added\")\n",
    "                cust2 = \"Extra sauce\"\n",
    "                self.items.append(cust2)\n",
    "                print(self.items)\n",
    "            elif cust2=='2':\n",
    "                Ec = 50\n",
    "                self.in123.append(Ec)\n",
    "                print(\"Extra cheese added\")\n",
    "                cust2 = \"Extra cheese\"\n",
    "                self.items.append(cust2)\n",
    "                print(self.items)\n",
    "            elif cust2=='3':\n",
    "                Eo = 20\n",
    "                self.in123.append(Eo)\n",
    "                print(\"Extra onions added\")\n",
    "                cust2 = \"Extra onions\"\n",
    "                self.items.append(cust2)\n",
    "                print(self.items)\n",
    "            elif cust2=='4':\n",
    "                Ep = 50\n",
    "                self.in123.append(Ep)\n",
    "                print(\"Extra patty added\")\n",
    "                cust2 = \"Extra patty\"\n",
    "                self.items.append(cust2)\n",
    "                print(self.items)\n",
    "            else:\n",
    "                print(\"Exit\")\n",
    "                print(self.items)\n",
    "        self.menu()\n",
    "    ##############################################################    \n",
    "    def veg_frank(self):\n",
    "        print(\"To customize your order press 1\")\n",
    "        cust = input(\"Enter to customize :\")\n",
    "        if cust=='1':\n",
    "            cust2 = input(\"\"\"\n",
    "                          1.Extra sauce\n",
    "                          2.Extra Cheese\n",
    "                          3.Extra Onions\n",
    "                          4.Extra Patty\n",
    "                          5.To exit\n",
    "                          \"\"\")\n",
    "            if cust2=='1':\n",
    "                Es = 10\n",
    "                self.in123.append(Es)\n",
    "                print(\"Extra sauce added\")\n",
    "                cust2 = \"Extra sauce\"\n",
    "                self.items.append(cust2)\n",
    "                print(self.items)\n",
    "            elif cust2=='2':\n",
    "                Ec = 50\n",
    "                self.in123.append(Ec)\n",
    "                print(\"Extra cheese added\")\n",
    "                cust2 = \"Extra cheese\"\n",
    "                self.items.append(cust2)\n",
    "                print(self.items)\n",
    "            elif cust2=='3':\n",
    "                Eo = 20\n",
    "                self.in123.append(Eo)\n",
    "                print(\"Extra onions added\")\n",
    "                cust2 = \"Extra onions\"\n",
    "                self.items.append(cust2)\n",
    "                print(self.items)\n",
    "            elif cust2=='4':\n",
    "                Ep = 50\n",
    "                self.in123.append(Ep)\n",
    "                print(\"Extra patty added\")\n",
    "                cust2 = \"Extra patty\"\n",
    "                self.items.append(cust2)\n",
    "                print(self.items)\n",
    "            else:\n",
    "                print(\"Exit\")\n",
    "                print(self.items)\n",
    "        self.menu()\n",
    "    \n",
    "    def paneer(self):\n",
    "        print(\"To customize your order press 1\")\n",
    "        cust = input(\"Enter to customize :\")\n",
    "        if cust=='1':\n",
    "            cust2 = input(\"\"\"\n",
    "                          1.Extra sauce\n",
    "                          2.Extra Cheese\n",
    "                          3.Extra Onions\n",
    "                          4.Extra Patty\n",
    "                          5.To exit\n",
    "                          \"\"\")\n",
    "            if cust2=='1':\n",
    "                Es = 10\n",
    "                self.in123.append(Es)\n",
    "                print(\"Extra sauce added\")\n",
    "                cust2 = \"Extra sauce\"\n",
    "                self.items.append(cust2)\n",
    "                print(self.items)\n",
    "            elif cust2=='2':\n",
    "                Ec = 50\n",
    "                self.in123.append(Ec)\n",
    "                print(\"Extra cheese added\")\n",
    "                cust2 = \"Extra cheese\"\n",
    "                self.items.append(cust2)\n",
    "                print(self.items)\n",
    "            elif cust2=='3':\n",
    "                Eo = 20\n",
    "                self.in123.append(Eo)\n",
    "                print(\"Extra onions added\")\n",
    "                cust2 = \"Extra onions\"\n",
    "                self.items.append(cust2)\n",
    "                print(self.items)\n",
    "            elif cust2=='4':\n",
    "                Ep = 50\n",
    "                self.in123.append(Ep)\n",
    "                print(\"Extra patty added\")\n",
    "                cust2 = \"Extra patty\"\n",
    "                self.items.append(cust2)\n",
    "                print(self.items)\n",
    "            else:\n",
    "                print(\"Exit\")\n",
    "                print(self.items)\n",
    "        self.menu()\n",
    "    \n",
    "    def tacos(self):\n",
    "        print(\"To customize your order press 1\")\n",
    "        cust = input(\"Enter to customize :\")\n",
    "        if cust=='1':\n",
    "            cust2 = input(\"\"\"\n",
    "                          1.Extra sauce\n",
    "                          2.Extra Cheese\n",
    "                          3.Extra Onions\n",
    "                          4.Extra Patty\n",
    "                          5.To exit\n",
    "                          \"\"\")\n",
    "            if cust2=='1':\n",
    "                Es = 10\n",
    "                self.in123.append(Es)\n",
    "                print(\"Extra sauce added\")\n",
    "                cust2 = \"Extra sauce\"\n",
    "                self.items.append(cust2)\n",
    "                print(self.items)\n",
    "            elif cust2=='2':\n",
    "                Ec = 50\n",
    "                self.in123.append(Ec)\n",
    "                print(\"Extra cheese added\")\n",
    "                cust2 = \"Extra cheese\"\n",
    "                self.items.append(cust2)\n",
    "                print(self.items)\n",
    "            elif cust2=='3':\n",
    "                Eo = 20\n",
    "                self.in123.append(Eo)\n",
    "                print(\"Extra onions added\")\n",
    "                cust2 = \"Extra onions\"\n",
    "                self.items.append(cust2)\n",
    "                print(self.items)\n",
    "            elif cust2=='4':\n",
    "                Ep = 50\n",
    "                self.in123.append(Ep)\n",
    "                print(\"Extra patty added\")\n",
    "                cust2 = \"Extra patty\"\n",
    "                self.items.append(cust2)\n",
    "                print(self.items)\n",
    "            else:\n",
    "                print(\"Exit\")\n",
    "                print(self.items)\n",
    "        self.menu()\n",
    "    \n",
    "    def sides1(self):\n",
    "        sides2 = input(\"\"\"\n",
    "                       1.Small Fries\n",
    "                       2.Large Fries\n",
    "                       3.Cheese Sticks\n",
    "                       4.Garlic bread\n",
    "                       5.Return to the menu\n",
    "                       \"\"\")\n",
    "        if sides2=='1':\n",
    "            print(\"Small fries added\")\n",
    "            s = \"Small fries\"\n",
    "            self.items.append(s)\n",
    "            s1 = 50\n",
    "            self.in123.append(s1)\n",
    "            print(self.items)\n",
    "        elif sides2=='2':\n",
    "            print(\"Large fies added\")\n",
    "            s1 = 100\n",
    "            self.in123.append(s1)\n",
    "            s = \"Large fries\"\n",
    "            self.items.append(s)\n",
    "            print(self.items)\n",
    "        elif sides2=='3':\n",
    "            print(\"Cheese sticks added\")\n",
    "            s1 = 120\n",
    "            self.in123.append(s1)\n",
    "            s = \"Cheese sticks\"\n",
    "            self.items.append(s)\n",
    "            print(self.items)\n",
    "        elif sides2=='4':\n",
    "            print(\"Garlic bread added\")\n",
    "            s1 = 150\n",
    "            self.in123.append(s1)\n",
    "            s = \"Garlic bread\"\n",
    "            self.items.append(s)\n",
    "            print(self.items)\n",
    "        else:\n",
    "            print(\"Return to the menu\")\n",
    "        \n",
    "        self.menu()\n",
    "            \n",
    "    \n",
    "    def beverages(self):\n",
    "        bev1 = input(\"\"\"\n",
    "                     1.Coco-cola\n",
    "                     2.Sprite\n",
    "                     3.Cold-Coffee\n",
    "                     4.Slushy\n",
    "                     5.Oreo-shake\n",
    "                     6.Exit\n",
    "                     \"\"\")\n",
    "        if bev1=='1':\n",
    "            a = \"Coco-Cola\"\n",
    "            self.items.append(a)\n",
    "            Co = 50\n",
    "            self.in123.append(Co)\n",
    "            print(self.items)\n",
    "        elif bev1=='2':\n",
    "            a = \"Sprite\"\n",
    "            self.items.append(a)\n",
    "            Sp = 50\n",
    "            self.in123.append(Sp)\n",
    "            print(self.items)\n",
    "        elif bev1=='3':\n",
    "            a = \"Cold-Coffee\"\n",
    "            self.items.append(a)\n",
    "            Cc = 8\n",
    "            self.in123.append(Cc)\n",
    "            print(self.items)\n",
    "        elif bev1=='4':\n",
    "            a = \"Slushy\"\n",
    "            self.items.append(a)\n",
    "            S =70\n",
    "            self.in123.append(S)\n",
    "            print(self.items)\n",
    "        elif bev1=='5':\n",
    "            a = \"Oreo shake\"\n",
    "            self.items.append(a)\n",
    "            Os = 100\n",
    "            self.in123.append(a)\n",
    "            print(self.items)\n",
    "        else:\n",
    "            print(\"Continue\")\n",
    "            \n",
    "        self.menu()\n",
    "            \n",
    "    \n",
    "##################################################################\n",
    "    \n",
    "    def cost(self):\n",
    "        self.h = reduce(lambda x,y:x+y,self.in123)\n",
    "        print(\"The amount to pay is\",self.h)\n",
    "        print(\"Your order is\",str(self.items))\n",
    "        if self.h>200:\n",
    "            self.discount()\n",
    "        rev = input(\"Enter any changes we need to make :\")\n",
    "        print(rev)\n",
    "        print(\"Thankyou for your review\")\n",
    "        self.review()\n",
    "        self.menu()\n",
    "  #################################################################  \n",
    "    def review(self):\n",
    "        a = int(input(\"How much would you rate us :\"))\n",
    "        for i in range(1,a+1):\n",
    "            if a<=2:\n",
    "                print(\"'\\U0001F4A9'\",end='')\n",
    "            elif a>=4:\n",
    "                print(\"'\\U0001F917'\",end='')\n",
    "                \n",
    "            \n",
    "            \n",
    "            \n",
    "    def discount(self):\n",
    "        dis = input(\"Enter the discount code :\")\n",
    "        if dis=='123':\n",
    "            print(\"Congraluations on using the code\")\n",
    "            print(\"The next amount to pay is\",self.h-100)\n",
    "\n",
    "                \n",
    "            \n",
    "\n",
    "            "
   ]
  },
  {
   "cell_type": "code",
   "execution_count": 2,
   "id": "b678752f",
   "metadata": {},
   "outputs": [
    {
     "name": "stdout",
     "output_type": "stream",
     "text": [
      "Welcome enjoy yourself\n",
      "\n",
      "                      Here are your options\n",
      "                      1:Aloo tikki-60\n",
      "                      2.Maharaja burger-120\n",
      "                      3.Veg Frankie-50\n",
      "                      4.Paneer burger-90\n",
      "                      5.Tacos burger-100\n",
      "                      6.Bevrages\n",
      "                      7.To exit\n",
      "                      8.To pay\n",
      "                      9.Sides\n",
      "                      1\n",
      "Aloo tikki is on the way\n",
      "['Aloo_tikki']\n",
      "To customize your order press 1\n",
      "Enter to customize :1\n",
      "\n",
      "                          1.Extra sauce-10\n",
      "                          2.Extra Cheese-50\n",
      "                          3.Extra Onions-20\n",
      "                          4.Extra Patty-50\n",
      "                          5.To exit\n",
      "                          2\n",
      "Extra cheese added\n",
      "['Aloo_tikki', 'Extra cheese']\n",
      "\n",
      "                      Here are your options\n",
      "                      1:Aloo tikki-60\n",
      "                      2.Maharaja burger-120\n",
      "                      3.Veg Frankie-50\n",
      "                      4.Paneer burger-90\n",
      "                      5.Tacos burger-100\n",
      "                      6.Bevrages\n",
      "                      7.To exit\n",
      "                      8.To pay\n",
      "                      9.Sides\n",
      "                      8\n",
      "The amount to pay is 110\n",
      "Your order is ['Aloo_tikki', 'Extra cheese']\n",
      "Enter any changes we need to make :no\n",
      "no\n",
      "Thankyou for your review\n",
      "How much would you rate us :5\n",
      "'🤗''🤗''🤗''🤗''🤗'\n",
      "                      Here are your options\n",
      "                      1:Aloo tikki-60\n",
      "                      2.Maharaja burger-120\n",
      "                      3.Veg Frankie-50\n",
      "                      4.Paneer burger-90\n",
      "                      5.Tacos burger-100\n",
      "                      6.Bevrages\n",
      "                      7.To exit\n",
      "                      8.To pay\n",
      "                      9.Sides\n",
      "                      7\n",
      "Goodbye\n",
      "Your overall items are ['Aloo_tikki', 'Extra cheese']\n"
     ]
    }
   ],
   "source": [
    "object1 = Mcdonalds() "
   ]
  },
  {
   "cell_type": "code",
   "execution_count": null,
   "id": "d01ab618",
   "metadata": {},
   "outputs": [],
   "source": [
    "     ###  if side2=='1':\n",
    "               # side2 = \"French fries small\"\n",
    "                #self.sides.append(side2)\n",
    "               # print(self.sides)\n",
    "           # elif side2=='2':\n",
    "            #    side2 = \"French fries large\"\n",
    "             #   self.sides.append(side2)\n",
    "              #  print(self.sides)\n",
    "           # elif side2=='3':\n",
    "            #    side2 = \"Cheese sticks\"\n",
    "             #   self.sides.append(side2)\n",
    "              #  print(self.sides)\n",
    "          #  elif side2=='4':\n",
    "           #     side2 = \"Garlic bread\"\n",
    "            #    self.sides.append(side2)\n",
    "             #   print(self.sides)\n",
    "       #     else:\n",
    "        #        print(\"Thankyou\")\n",
    "         #       print(self.sides)\n",
    "                \n",
    "        #    def sides1(self):\n",
    "         #   sides2 = input(\"\"\"\n",
    "                      1.French fries small\n",
    "                      2.French fries large\n",
    "                      3.Cheese sticks\n",
    "          #            4.Garlic bread\n",
    "           #           5.Exit\n",
    "            #       \"\"\")"
   ]
  },
  {
   "cell_type": "code",
   "execution_count": 55,
   "id": "96439a28",
   "metadata": {},
   "outputs": [
    {
     "name": "stdout",
     "output_type": "stream",
     "text": [
      "21\n"
     ]
    }
   ],
   "source": [
    "from functools import reduce\n",
    "a = 10\n",
    "b = 11\n",
    "c = 12\n",
    "d = 13\n",
    "list1 =[a,b]\n",
    "e = reduce(lambda x,y:x+y,list1)\n",
    "print(e)"
   ]
  },
  {
   "cell_type": "code",
   "execution_count": 9,
   "id": "cd000a4c",
   "metadata": {},
   "outputs": [
    {
     "name": "stdout",
     "output_type": "stream",
     "text": [
      "[1, 2, 3, 4]\n"
     ]
    }
   ],
   "source": [
    "list1 = [1,2,3]\n",
    "list1.append(4)\n",
    "print(list1)"
   ]
  },
  {
   "cell_type": "code",
   "execution_count": 29,
   "id": "d3ab4e93",
   "metadata": {},
   "outputs": [
    {
     "name": "stdout",
     "output_type": "stream",
     "text": [
      "🤢\n"
     ]
    }
   ],
   "source": [
    "print('\\U0001F922')"
   ]
  },
  {
   "cell_type": "code",
   "execution_count": 1,
   "id": "6f29d0df",
   "metadata": {},
   "outputs": [
    {
     "name": "stdout",
     "output_type": "stream",
     "text": [
      "💩\n"
     ]
    }
   ],
   "source": [
    "print('\\U0001F4A9')"
   ]
  },
  {
   "cell_type": "markdown",
   "id": "38066350",
   "metadata": {},
   "source": [
    "# Reference Variable\n",
    "When we create a class and assign the class to the object a = class()\n",
    "here we assume that a is the object of the class but a is not the object of the class\n",
    "When we call  a class like this class() the creates the object of the class but we have not assigned it to the variable\n",
    "The variable that we assign the class is just the reference of the class \n",
    "When we call the class the object is created of that class but it is stored in the memory in order to call the class we need to \n",
    "assign it to the variable\n",
    "So the variable is not the object but it is the reference of that object"
   ]
  },
  {
   "cell_type": "code",
   "execution_count": 6,
   "id": "f6ee03e4",
   "metadata": {},
   "outputs": [],
   "source": [
    "class Obj123:\n",
    "    def __init__(self):\n",
    "        self.name = \"Rohit\"\n",
    "        self.gender = \"Male\"\n",
    "    def info(self):\n",
    "        return f\"My name is {self.name} and i  am a {self.gender}\""
   ]
  },
  {
   "cell_type": "markdown",
   "id": "15c9bb31",
   "metadata": {},
   "source": [
    "# Pass by reference\n",
    "When we create a class and create the object of the class we can pass the object in a function outside the class and use the class"
   ]
  },
  {
   "cell_type": "code",
   "execution_count": 13,
   "id": "00030996",
   "metadata": {},
   "outputs": [],
   "source": [
    "def outer():\n",
    "    a = 2000\n",
    "    return inner(a)\n",
    "def inner(b):\n",
    "    b = b+1\n",
    "    return b"
   ]
  },
  {
   "cell_type": "code",
   "execution_count": 15,
   "id": "098ca13b",
   "metadata": {},
   "outputs": [
    {
     "data": {
      "text/plain": [
       "2001"
      ]
     },
     "execution_count": 15,
     "metadata": {},
     "output_type": "execute_result"
    }
   ],
   "source": [
    "outer()"
   ]
  },
  {
   "cell_type": "code",
   "execution_count": 18,
   "id": "32a5045a",
   "metadata": {},
   "outputs": [
    {
     "data": {
      "text/plain": [
       "1476716527888"
      ]
     },
     "execution_count": 18,
     "metadata": {},
     "output_type": "execute_result"
    }
   ],
   "source": [
    "2\n",
    "id(2)"
   ]
  },
  {
   "cell_type": "code",
   "execution_count": 20,
   "id": "413fb3cf",
   "metadata": {},
   "outputs": [
    {
     "data": {
      "text/plain": [
       "1476716527888"
      ]
     },
     "execution_count": 20,
     "metadata": {},
     "output_type": "execute_result"
    }
   ],
   "source": [
    "a = 2\n",
    "id(a)"
   ]
  },
  {
   "cell_type": "code",
   "execution_count": 54,
   "id": "fb2dd3cd",
   "metadata": {},
   "outputs": [],
   "source": [
    "def mult(a):\n",
    "    return into(a)\n",
    "def into(a):\n",
    "    return a**2 "
   ]
  },
  {
   "cell_type": "code",
   "execution_count": 57,
   "id": "0d14055f",
   "metadata": {},
   "outputs": [
    {
     "data": {
      "text/plain": [
       "25"
      ]
     },
     "execution_count": 57,
     "metadata": {},
     "output_type": "execute_result"
    }
   ],
   "source": [
    "mult(5)"
   ]
  },
  {
   "cell_type": "code",
   "execution_count": 14,
   "id": "4d5585f5",
   "metadata": {},
   "outputs": [
    {
     "name": "stdout",
     "output_type": "stream",
     "text": [
      "2116603636864\n"
     ]
    }
   ],
   "source": [
    "class New:\n",
    "    def __init__(self):\n",
    "        self.name=20\n",
    "        self.age=100\n",
    "obj = New()\n",
    "obj.name = 10\n",
    "obj2  = New()\n",
    "obj2.name = 10\n",
    "print(id(obj))\n",
    "        \n",
    "\n",
    "def func1(self):\n",
    "    c = self.name * self.age\n",
    "    return c"
   ]
  },
  {
   "cell_type": "code",
   "execution_count": 15,
   "id": "f449b3ae",
   "metadata": {},
   "outputs": [
    {
     "data": {
      "text/plain": [
       "1000"
      ]
     },
     "execution_count": 15,
     "metadata": {},
     "output_type": "execute_result"
    }
   ],
   "source": [
    "func1(obj2)"
   ]
  },
  {
   "cell_type": "code",
   "execution_count": 126,
   "id": "a0a6a9eb",
   "metadata": {},
   "outputs": [],
   "source": [
    "class New1:\n",
    "    def __init__(self,value1,value2):\n",
    "        self.value1=value1\n",
    "        self.value2=value2\n",
    "    def new2(self,value3):\n",
    "        self.value3 = value3\n",
    "        c = self.value1*self.value2\n",
    "        d = self.value3 + c\n",
    "        return d\n"
   ]
  },
  {
   "cell_type": "code",
   "execution_count": 128,
   "id": "09b66c8c",
   "metadata": {},
   "outputs": [
    {
     "data": {
      "text/plain": [
       "300"
      ]
     },
     "execution_count": 128,
     "metadata": {},
     "output_type": "execute_result"
    }
   ],
   "source": [
    "obj1 = New1(20,10)\n",
    "obj1.new2(100)"
   ]
  },
  {
   "cell_type": "code",
   "execution_count": 4,
   "id": "ed34d7db",
   "metadata": {},
   "outputs": [],
   "source": [
    "class setter:\n",
    "    def __init__(self,name,age):\n",
    "        self.name = name\n",
    "        self.age = age\n",
    "        self.getter()\n",
    "        self.new()\n",
    "    def getter(self):\n",
    "        if self.name == str:\n",
    "            return self.name\n",
    "        else:\n",
    "            return \"enter the proper value\"\n",
    "    def new(self):\n",
    "        if self.age ==int:\n",
    "            return self.age\n",
    "        else:\n",
    "            return \"Return the age in int\"\n",
    "    def new1(self):\n",
    "        return f\"My name is {self.name} and my age is {self.age}\""
   ]
  },
  {
   "cell_type": "markdown",
   "id": "daa14956",
   "metadata": {},
   "source": [
    "# Types of relationship in classes\n",
    "1.Aggeration\n",
    "2.Inheritance"
   ]
  },
  {
   "cell_type": "markdown",
   "id": "bdb729d4",
   "metadata": {},
   "source": [
    "# Aggeration\n",
    "Has a relationship\n",
    "One class own another class\n",
    "A resturant has a menu\n",
    "Cust_id own customer\n",
    "customer own name\n",
    "Aggeration is relationship between two classes that relationship is established by objects"
   ]
  },
  {
   "cell_type": "code",
   "execution_count": 49,
   "id": "ac724cb9",
   "metadata": {},
   "outputs": [],
   "source": [
    "class Person1:\n",
    "    def __init__(self,name,age,adderess):\n",
    "        self.name = name\n",
    "        self.age = age\n",
    "        self.adderess = adderess\n",
    "    def Print1(self):\n",
    "        print(self.name,self.age,self.adderess.city,self.adderess.state,self.adderess.pin)\n",
    "        \n",
    "    def Edit(self,new_name,new_age,new_city,new_state,new_pin):\n",
    "        self.name = new_name\n",
    "        self.age = new_age\n",
    "        self.adderess.Add2(new_city,new_state,new_pin)\n",
    "\n",
    "class Adderess1:\n",
    "    def __init__(self,city,state,pin):\n",
    "        self.city = city\n",
    "        self.state = state\n",
    "        self.pin = pin\n",
    "    def Add2(self,new_city,new_state,new_pin):\n",
    "        self.city = new_city\n",
    "        self.state = new_state\n",
    "        self.pin = new_pin"
   ]
  },
  {
   "cell_type": "code",
   "execution_count": 50,
   "id": "80f9618f",
   "metadata": {},
   "outputs": [],
   "source": [
    "a2 = Adderess1(\"Munbai\",\"Maharashtra\",123456)\n",
    "p2 = Person1(\"Rohit\",35,a2)"
   ]
  },
  {
   "cell_type": "code",
   "execution_count": 57,
   "id": "66417266",
   "metadata": {},
   "outputs": [],
   "source": [
    "p2.Edit(\"Rahul\",38,\"Gurugram\",\"Harayana\",1111111)"
   ]
  },
  {
   "cell_type": "code",
   "execution_count": 66,
   "id": "6404466f",
   "metadata": {},
   "outputs": [],
   "source": [
    "class Stud:\n",
    "    def __init__(self,name,st_in,s_id,address):\n",
    "        self.name = name\n",
    "        self.s_id = s_id\n",
    "        self.st_in = st_in\n",
    "        self.address = address\n",
    "        \n",
    "    def Print(self):\n",
    "        print(\"Name :\",self.name,\"Student_id :\",self.s_id)\n",
    "        print(\"Standard :\",self.st_in.standard,\"Division :\",self.st_in.div,\"Roll_no :\",self.st_in.roll_no)\n",
    "        print(\"City :\",self.address.city,\"State :\",self.address.state,\"Pin :\",self.address.pin)\n",
    "    \n",
    "    def edit_profile_name(self,new_name,new_s_id):\n",
    "        self.name = new_name\n",
    "        \n",
    "        \n",
    "        self.s_id = new_s_id\n",
    "        \n",
    "    def edit_profile_st_in(self,new_standard,new_div,new_roll_no):\n",
    "        self.st_in.change_stu(new_standard,new_div,new_roll_no)\n",
    "        \n",
    "    def edit_profile_add(self,new_city,new_state,new_pin):\n",
    "        self.address.change_add(new_city,new_state,new_pin)\n",
    "\n",
    "class Address:\n",
    "    def __init__(self,city,state,pin):\n",
    "        self.city = city\n",
    "        self.state = state\n",
    "        self.pin = pin\n",
    "    def change_add(self,new_city,new_state,new_pin):\n",
    "        self.city = new_city\n",
    "        self.state = new_state\n",
    "        self.pin = new_pin\n",
    "        \n",
    "class Stu:\n",
    "    def __init__(self,standard,div,roll_no):\n",
    "        self.standard = standard\n",
    "        self.div = div\n",
    "        self.roll_no = roll_no\n",
    "    def change_stu(self,new_standard,new_div,new_roll_no):\n",
    "        self.standard = new_standard\n",
    "        self.div = new_div\n",
    "        self.roll_no = new_roll_no\n",
    "        \n",
    "    "
   ]
  },
  {
   "cell_type": "code",
   "execution_count": 11,
   "id": "dd7d9059",
   "metadata": {},
   "outputs": [],
   "source": [
    "def func1(a):\n",
    "    if type(a)==int:\n",
    "        print(\"True\")\n",
    "    else:\n",
    "        print(\"False\")"
   ]
  },
  {
   "cell_type": "code",
   "execution_count": 13,
   "id": "5099dc29",
   "metadata": {},
   "outputs": [
    {
     "name": "stdout",
     "output_type": "stream",
     "text": [
      "True\n"
     ]
    }
   ],
   "source": [
    "func1(7)"
   ]
  },
  {
   "cell_type": "code",
   "execution_count": 7,
   "id": "96feb9aa",
   "metadata": {},
   "outputs": [],
   "source": [
    "class Parent:\n",
    "    def __init__(self,name,brand,camera,processor,ram):\n",
    "        self.name = name\n",
    "        self.brand = brand\n",
    "        self.camera = camera\n",
    "        self.processor = processor\n",
    "        self.ram = ram\n",
    "    \n",
    "    def Phone(self):\n",
    "        print(f\"Phone name {self.name} Brand {self.brand} camera {self.camera} processor {self.processor} ram {self.ram}\")\n",
    "        \n",
    "class Child(Parent):\n",
    "    def Phone1(self):\n",
    "        print(f\"Phone name {self.name} Brand {self.brand} camera {self.camera} processor {self.processor} ram {self.ram}\")\n",
    "        "
   ]
  },
  {
   "cell_type": "code",
   "execution_count": 8,
   "id": "0a4ff453",
   "metadata": {},
   "outputs": [],
   "source": [
    "p1 = Parent(\"note 9 pro\",\"Redmi\",\"48mp\",720,\"4gb\")"
   ]
  },
  {
   "cell_type": "code",
   "execution_count": 16,
   "id": "9f50af10",
   "metadata": {},
   "outputs": [
    {
     "name": "stdout",
     "output_type": "stream",
     "text": [
      "Phone name note 9 pro Brand Redmi camera 48mp processor 720 ram 4gb\n"
     ]
    }
   ],
   "source": [
    "c1 = Child(\"13\",\"Iphone\",\"64mp\",720,\"6gb\")\n",
    "p1.Phone()"
   ]
  },
  {
   "cell_type": "code",
   "execution_count": 19,
   "id": "fcb55364",
   "metadata": {},
   "outputs": [
    {
     "name": "stdout",
     "output_type": "stream",
     "text": [
      "Phone name nord Brand 1 plus camera 64mp processor 860 ram 8gb\n"
     ]
    }
   ],
   "source": [
    "p2 = Parent(\"nord\",\"1 plus\",\"64mp\",860,\"8gb\")\n",
    "p2.Phone()"
   ]
  },
  {
   "cell_type": "code",
   "execution_count": 21,
   "id": "ef97997d",
   "metadata": {},
   "outputs": [
    {
     "name": "stdout",
     "output_type": "stream",
     "text": [
      "Phone name note 9 pro Brand Redmi camera 48mp processor 720 ram 4gb\n"
     ]
    }
   ],
   "source": [
    "p1.Phone()"
   ]
  },
  {
   "cell_type": "code",
   "execution_count": 30,
   "id": "d6e842ca",
   "metadata": {},
   "outputs": [],
   "source": [
    "class User_Login:\n",
    "    def __init__(self):\n",
    "        self.username1 = \"om123\"\n",
    "        self.password1 = \"123456\"\n",
    "        self.username2 = \"hello123\"\n",
    "        self.password2 = \"12345678\"\n",
    "        print(\"Welcome\")\n",
    "        \n",
    "    def login(self):\n",
    "        self.a = input(\"Enter your username :\")\n",
    "        self.b = input(\"Enter your password :\")\n",
    "        if self.a==self.username1 and self.b==self.password1:\n",
    "            print(\"Welcome\")\n",
    "            print(\"Enjoy shopping\")\n",
    "            \n",
    "class Client(User_Login):   \n",
    "    def client(self):\n",
    "        self.login()\n",
    "        if self.a==self.username2 and self.b==self.password2:\n",
    "            print(\"Welcome client\")\n",
    "        \n",
    "    \n",
    "    \n",
    "            \n",
    "            \n",
    "        \n",
    "    "
   ]
  },
  {
   "cell_type": "code",
   "execution_count": 33,
   "id": "027e4c3c",
   "metadata": {},
   "outputs": [
    {
     "name": "stdout",
     "output_type": "stream",
     "text": [
      "Welcome\n",
      "Enter your username :6868\n",
      "Enter your password :YJY\n"
     ]
    }
   ],
   "source": [
    "c1 = Client()\n",
    "c1.client()"
   ]
  },
  {
   "cell_type": "markdown",
   "id": "8fecec4b",
   "metadata": {},
   "source": [
    "# Inheritance\n",
    "Using inheritance we can use the functionalaties if other classes inheritance use parent child concept there is a parent class and a child class the child class can access all the attributes and methods of the parent class \n",
    "Prime example of inheritance is swiggy app when a users logs in he gets ti see the menu and when the deleviry man opens it he sees the deleviry options but between them in one thing is common that is login we can make a login parent class and use it in the child class\n",
    "The reasin of using inheritance is code reusability"
   ]
  },
  {
   "cell_type": "code",
   "execution_count": 112,
   "id": "a5e28418",
   "metadata": {},
   "outputs": [],
   "source": [
    "class Parent:\n",
    "    def __init__(self,First_name,Last_name,Age):\n",
    "        self.First_name = First_name\n",
    "        self.Last_name = Last_name\n",
    "        self.Age = Age\n",
    "    \n",
    "    def par(self):\n",
    "        print(\"Hello World\")\n",
    "    \n",
    "\n",
    "class Child(Parent):\n",
    "    def __init__(self,First_name,Last_name,Age,Gender):\n",
    "        super().__init__(First_name,Last_name,Age)\n",
    "        self.Gender = Gender\n",
    "        \n",
    "    def create(self):\n",
    "        print(self.First_name,self.Last_name,self.Age,self.Gender)"
   ]
  },
  {
   "cell_type": "code",
   "execution_count": 94,
   "id": "c0c20d3a",
   "metadata": {},
   "outputs": [],
   "source": [
    "class Class1:\n",
    "    def __init__(self,First_name,last_name,age):\n",
    "        self.__First_name = First_name\n",
    "        self.last_name = last_name\n",
    "        self.age = age\n",
    "    def par(self):\n",
    "        print(self.__First_name,self.last_name,self.age)\n",
    "        \n",
    "    def Return(self):\n",
    "        return self.__First_name\n",
    "    \n",
    "    def change(self,new_First_name):\n",
    "        if type(new_First_name)==str:\n",
    "            self.__First_name = new_First_name\n",
    "        else:\n",
    "            print(\"Type the correct value\")\n",
    "\n",
    "    "
   ]
  },
  {
   "cell_type": "code",
   "execution_count": 113,
   "id": "e7d5d3d5",
   "metadata": {},
   "outputs": [],
   "source": [
    "c1 = Child(\"Rohit\",\"Sharma\",35,\"Male\")"
   ]
  },
  {
   "cell_type": "code",
   "execution_count": 114,
   "id": "fda28aaa",
   "metadata": {},
   "outputs": [
    {
     "name": "stdout",
     "output_type": "stream",
     "text": [
      "Rohit Sharma 35 Male\n"
     ]
    }
   ],
   "source": [
    "c1.create()"
   ]
  },
  {
   "cell_type": "code",
   "execution_count": 3,
   "id": "922768d3",
   "metadata": {},
   "outputs": [
    {
     "name": "stdout",
     "output_type": "stream",
     "text": [
      "1\n",
      "2\n",
      "3\n",
      "4\n",
      "5\n",
      "6\n",
      "7\n",
      "8\n",
      "9\n",
      "10\n",
      "11\n",
      "12\n",
      "13\n",
      "14\n",
      "15\n",
      "16\n",
      "17\n",
      "18\n",
      "19\n",
      "20\n",
      "21\n",
      "22\n",
      "23\n",
      "24\n",
      "25\n",
      "26\n",
      "27\n",
      "28\n",
      "29\n",
      "30\n",
      "31\n",
      "32\n",
      "33\n",
      "34\n",
      "35\n",
      "36\n",
      "37\n",
      "38\n",
      "39\n",
      "40\n",
      "41\n",
      "42\n",
      "43\n",
      "44\n",
      "45\n",
      "46\n",
      "47\n",
      "48\n",
      "49\n",
      "50\n",
      "51\n",
      "52\n",
      "53\n",
      "54\n",
      "55\n",
      "56\n",
      "57\n",
      "58\n",
      "59\n",
      "60\n",
      "61\n",
      "62\n",
      "63\n",
      "64\n",
      "65\n",
      "66\n",
      "67\n",
      "68\n",
      "69\n",
      "70\n",
      "71\n",
      "72\n",
      "73\n",
      "74\n",
      "75\n",
      "76\n",
      "77\n",
      "78\n",
      "79\n",
      "80\n",
      "81\n",
      "82\n",
      "83\n",
      "84\n",
      "85\n",
      "86\n",
      "87\n",
      "88\n",
      "89\n",
      "90\n",
      "91\n",
      "92\n",
      "93\n",
      "94\n",
      "95\n",
      "96\n",
      "97\n",
      "98\n",
      "99\n",
      "100\n",
      "0.0009987354278564453\n"
     ]
    }
   ],
   "source": [
    "import time\n",
    "\n",
    "time1 = time.time()\n",
    "for i in range(1,101):\n",
    "    a = 1\n",
    "    b = 2\n",
    "    c = 3\n",
    "    print(i)\n",
    "print(time.time()-time1)"
   ]
  },
  {
   "cell_type": "markdown",
   "id": "cc096b78",
   "metadata": {},
   "source": [
    "# Abstraction\n",
    "The meaning of Abstraction is it is the hidden part of the laptop we only see the outer part that is user interface but we dont't know what is going on inside \n",
    "##In oop abstraction is the constraint that we give to the child classes it may be seen as the condition given to class if they want to inherit the functionalities of their parent class they need to follow the orders \n"
   ]
  },
  {
   "cell_type": "markdown",
   "id": "07ba1f73",
   "metadata": {},
   "source": [
    "# Rules of Abstraction\n",
    "When we want to use abstraction we need to import abstraction from its class called abc\n",
    "###When we make a class and write methods init they are called as concrete methods but when we are using abstraction we need to write atleast one abstraction method otherwise it will throw an error\n",
    "###Another rule is we cannot make a object of the parent class in which abstraction is used but the child classes can use the functionalities of the parent class \n",
    "###The condition of abstraction is that when we write an abstract method we need to write that method in the child class as well if that condition is not satisfied it will throw an error"
   ]
  },
  {
   "cell_type": "markdown",
   "id": "425f384a",
   "metadata": {},
   "source": [
    "# Example of abstraction\n",
    "When making of an bank application there is an database class and we want to make an mobile app and want to use the database class we can simply inherit but first adding an condition to the child class is the wise course of action by adding the security condition to the child class we can use abstraction so the security will be intact "
   ]
  },
  {
   "cell_type": "code",
   "execution_count": 15,
   "id": "71a71f1c",
   "metadata": {},
   "outputs": [],
   "source": [
    "#Abstraction\n",
    "from abc import ABC,abstractmethod\n",
    "class Abstract1(ABC):\n",
    "    def data(self):\n",
    "        print(\"Fullfill the condition to use the database\")\n",
    "    @abstractmethod\n",
    "    def security1(self):\n",
    "        pass\n",
    "    \n",
    "class child(Abstract1):\n",
    "    def Mobile(self):\n",
    "        print(\"Welcome to this app\")\n",
    "    def security1(self):\n",
    "        print(\"Security\")"
   ]
  },
  {
   "cell_type": "code",
   "execution_count": 16,
   "id": "ee1d1990",
   "metadata": {},
   "outputs": [],
   "source": [
    "obj = child()   "
   ]
  }
 ],
 "metadata": {
  "kernelspec": {
   "display_name": "Python 3 (ipykernel)",
   "language": "python",
   "name": "python3"
  },
  "language_info": {
   "codemirror_mode": {
    "name": "ipython",
    "version": 3
   },
   "file_extension": ".py",
   "mimetype": "text/x-python",
   "name": "python",
   "nbconvert_exporter": "python",
   "pygments_lexer": "ipython3",
   "version": "3.10.9"
  }
 },
 "nbformat": 4,
 "nbformat_minor": 5
}
